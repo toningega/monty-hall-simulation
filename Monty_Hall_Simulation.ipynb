{
 "cells": [
  {
   "cell_type": "code",
   "execution_count": 1,
   "metadata": {},
   "outputs": [],
   "source": [
    "import numpy as np\n",
    "import random"
   ]
  },
  {
   "cell_type": "code",
   "execution_count": 2,
   "metadata": {},
   "outputs": [],
   "source": [
    "def simulate_prizedoor(n_sims):\n",
    "    \"\"\"\n",
    "    Function\n",
    "    --------\n",
    "    simulate_prizedoor\n",
    "\n",
    "    Parameters\n",
    "    ----------\n",
    "    n_sims : int\n",
    "        The number of simulations to run\n",
    "\n",
    "    Returns\n",
    "    -------\n",
    "    sims : array\n",
    "        Random array of 0s, 1s, and 2s\n",
    "\n",
    "    Example\n",
    "    -------\n",
    "    >>> print simulate_prizedoor(3)\n",
    "    array([0, 0, 2])\n",
    "    \"\"\"\n",
    "    return np.random.randint(0,3,(n_sims))\n",
    "# num_of_simulations = 3\n",
    "# simulate_prizedoor(num_of_simulations)"
   ]
  },
  {
   "cell_type": "code",
   "execution_count": 3,
   "metadata": {},
   "outputs": [],
   "source": [
    "def simulate_guess(n_sims):\n",
    "    \"\"\"\n",
    "    Function\n",
    "    --------\n",
    "    simulate_guess\n",
    "\n",
    "    Parameters\n",
    "    ----------\n",
    "    n_sims : int\n",
    "        The number of simulations to generate guesses for\n",
    "\n",
    "    Returns\n",
    "    -------\n",
    "    guesses : array\n",
    "        An array of guesses. Each guess is a 0, 1, or 2\n",
    "\n",
    "    Example\n",
    "    -------\n",
    "    >>> print simulate_guess(5)\n",
    "    array([0, 0, 0, 0, 0])\n",
    "    \"\"\"\n",
    "    return np.random.randint(0,3,(n_sims))\n",
    "# num_of_simulations = 3\n",
    "#simulate_guess(num_of_simulations)"
   ]
  },
  {
   "cell_type": "code",
   "execution_count": 4,
   "metadata": {},
   "outputs": [],
   "source": [
    "def goat_door(prizedoor,guesses):\n",
    "    \"\"\"\n",
    "    Function\n",
    "    --------\n",
    "    goat_door\n",
    "\n",
    "    Parameters\n",
    "    ----------\n",
    "    prizedoors : array\n",
    "        The door that the prize is behind in each simulation\n",
    "    guesses : array\n",
    "        THe door that the contestant guessed in each simulation\n",
    "\n",
    "    Returns\n",
    "    -------\n",
    "    goats : array\n",
    "        The goat door that is opened for each simulation. Each item is 0, 1, or 2, and is different\n",
    "        from both prizedoors and guesses\n",
    "\n",
    "    Examples\n",
    "    --------\n",
    "    >>> print goat_door(np.array([0, 1, 2]), np.array([1, 1, 1]))\n",
    "    >>> array([2, 2, 0])\n",
    "    \"\"\"\n",
    "    goat_doors = []\n",
    "    available = set([0,1,2]) # made into set to use set operations like {a,b}\\{b} = {a}\n",
    "    for i in range(len(prizedoor)):\n",
    "        unavailable = set([prizedoor[i],guesses[i]])\n",
    "        leftover = available - unavailable      \n",
    "        door_to_show = list(leftover)[np.random.randint(0,len(leftover))] # if there's two options to choose from pick randomly\n",
    "        goat_doors.append(door_to_show)\n",
    "    return np.array(goat_doors)  \n",
    "# num_of_simulations = 3\n",
    "# p = simulate_prizedoor(num_of_simulations)\n",
    "# g = simulate_guess(num_of_simulations)\n",
    "# print(p,g,goat_door(p,g))"
   ]
  },
  {
   "cell_type": "code",
   "execution_count": 5,
   "metadata": {},
   "outputs": [],
   "source": [
    "def switch_guess(guesses,goatdoor):\n",
    "    \"\"\"\n",
    "    Function\n",
    "    --------\n",
    "    switch_guess\n",
    "\n",
    "    The strategy that always switches a guess after the goat door is opened\n",
    "\n",
    "    Parameters\n",
    "    ----------\n",
    "    guesses : array\n",
    "         Array of original guesses, for each simulation\n",
    "    goatdoors : array\n",
    "         Array of revealed goat doors for each simulation\n",
    "\n",
    "    Returns\n",
    "    -------\n",
    "    The new door after switching. Should be different from both guesses and goatdoors\n",
    "\n",
    "    Examples\n",
    "    --------\n",
    "    >>> print switch_guess(np.array([0, 1, 2]), np.array([1, 2, 1]))\n",
    "    >>> a\n",
    "    \"\"\"\n",
    "    change = []\n",
    "    available = set([0,1,2]) # made into set to use set operations like {a,b}\\{b} = {a}\n",
    "    for i in range(len(goatdoor)):\n",
    "        unavailable = set([goatdoor[i],guesses[i]])\n",
    "        leftover = available - unavailable        \n",
    "        change.append(list(leftover)[0])\n",
    "    return np.array(change) \n",
    "# num_of_simulations = 3\n",
    "# p = simulate_prizedoor(num_of_simulations)\n",
    "# g = simulate_guess(num_of_simulations)\n",
    "# gd = goat_door(p,g)\n",
    "# sg = switch_guess(g,gd)\n",
    "# print(\"\\n p\",p,\"\\n g\",g,\"\\ngd\",gd,\"\\nsg\",sg)"
   ]
  },
  {
   "cell_type": "code",
   "execution_count": 6,
   "metadata": {},
   "outputs": [],
   "source": [
    "def win_percentage(guesses,prizedoors):\n",
    "    \"\"\"\n",
    "    Function\n",
    "    --------\n",
    "    win_percentage\n",
    "\n",
    "    Calculate the percent of times that a simulation of guesses is correct.\n",
    "\n",
    "    Parameters\n",
    "    -----------\n",
    "    guesses : array\n",
    "        Guesses for each simulation\n",
    "    prizedoors : array\n",
    "        Location of prize for each simulation\n",
    "\n",
    "    Returns\n",
    "    --------\n",
    "    percentage : number between 0 and 100\n",
    "        The win percentage\n",
    "\n",
    "    Examples\n",
    "    ---------\n",
    "    >>> print win_percentage(np.array([0, 1, 2]), np.array([0, 0, 0]))\n",
    "    33.333\n",
    "    \"\"\"\n",
    "    sum_of_runs = len(guesses)\n",
    "    wins = 0\n",
    "    loss = 0\n",
    "    for i in range(sum_of_runs):\n",
    "        if guesses[i] == prizedoors[i]:\n",
    "            wins += 1\n",
    "        else:\n",
    "            loss += 1\n",
    "    win_perc = (wins/sum_of_runs)*100\n",
    "    return (f\"Win: {win_perc}%\") "
   ]
  },
  {
   "cell_type": "code",
   "execution_count": 8,
   "metadata": {},
   "outputs": [],
   "source": [
    "def mh_sim(n_sims,print_simulation = False):\n",
    "    prizedoors = simulate_prizedoor(n_sims)\n",
    "    guessdoors = simulate_guess(n_sims)\n",
    "    goatdoors = goat_door(prizedoors,guessdoors)\n",
    "    swtichguessdoors = switch_guess(guessdoors,goatdoors)\n",
    "    if print_simulation == True:\n",
    "        print(\"\\n       prizedoors:\",prizedoors,\n",
    "              \"\\n       guessdoors:\",guessdoors,\n",
    "              \"\\n        goatdoors:\",goatdoors,\n",
    "              \"\\n swtichguessdoors:\",swtichguessdoors)\n",
    "    else:\n",
    "        None\n",
    "    return win_percentage(swtichguessdoors,prizedoors)    "
   ]
  },
  {
   "cell_type": "code",
   "execution_count": 9,
   "metadata": {},
   "outputs": [
    {
     "data": {
      "text/plain": [
       "'Win: 66.28%'"
      ]
     },
     "execution_count": 9,
     "metadata": {},
     "output_type": "execute_result"
    }
   ],
   "source": [
    "mh_sim(5000)"
   ]
  },
  {
   "cell_type": "code",
   "execution_count": 10,
   "metadata": {},
   "outputs": [
    {
     "name": "stdout",
     "output_type": "stream",
     "text": [
      "Win: 65.10000000000001%\n",
      "Win: 66.2%\n",
      "Win: 66.47999999999999%\n",
      "Win: 67.58%\n",
      "Win: 67.12%\n",
      "Win: 66.0%\n",
      "Win: 65.62%\n",
      "Win: 65.08%\n",
      "Win: 66.46%\n",
      "Win: 67.4%\n",
      "Win: 66.10000000000001%\n",
      "Win: 66.22%\n",
      "Win: 66.5%\n",
      "Win: 67.80000000000001%\n",
      "Win: 66.60000000000001%\n",
      "Win: 66.03999999999999%\n",
      "Win: 67.24%\n",
      "Win: 67.0%\n",
      "Win: 67.0%\n",
      "Win: 66.62%\n"
     ]
    }
   ],
   "source": [
    "for i in range(0,100,5):\n",
    "    print(mh_sim(5000))"
   ]
  },
  {
   "cell_type": "code",
   "execution_count": null,
   "metadata": {},
   "outputs": [],
   "source": []
  }
 ],
 "metadata": {
  "kernelspec": {
   "display_name": "Python 3",
   "language": "python",
   "name": "python3"
  },
  "language_info": {
   "codemirror_mode": {
    "name": "ipython",
    "version": 3
   },
   "file_extension": ".py",
   "mimetype": "text/x-python",
   "name": "python",
   "nbconvert_exporter": "python",
   "pygments_lexer": "ipython3",
   "version": "3.6.4"
  }
 },
 "nbformat": 4,
 "nbformat_minor": 2
}
